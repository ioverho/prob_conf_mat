{
 "cells": [
  {
   "cell_type": "markdown",
   "metadata": {},
   "source": [
    "# Comparing Experiments\n",
    "\n",
    "**Note**: the appearance of this notebook will depend on the environment and screen size you're using. If the tables are being clipped or the figures look off, consider trying Google Colab or Github via the buttons below. This notebook was created in VSCode, and will likely look best locally.\n",
    "\n",
    "<a target=\"_blank\" href=\"https://colab.research.google.com/github/ioverho/bayes_conf_mat/blob/main/documentation/Getting%20Started/comparing_experiments.ipynb\">\n",
    "  <img alt=\"Static Badge\" src=\"https://img.shields.io/badge/Run_in_Colab-_?style=for-the-badge&logo=googlecolab&labelColor=gray&color=1082c3&link=https%3A%2F%2Fgithub.com%2Fioverho%2Fbayes_conf_mat%2Fblob%2Fmain%2Fdocumentation%2FGetting%2520Started%2Fcomparing_experiments.ipynb\">\n",
    "</a>\n",
    "<a target=\"_blank\" href=\"https://github.com/ioverho/bayes_conf_mat/blob/main/documentation/Getting%20Started/comparing_experiments.ipynb\">\n",
    "  <img alt=\"Static Badge\" src=\"https://img.shields.io/badge/View_in_Github-_?style=for-the-badge&logo=github&labelColor=gray&color=1082c3&link=https%3A%2F%2Fgithub.com%2Fioverho%2Fbayes_conf_mat%2Fblob%2Fmain%2Fdocumentation%2FGetting%2520Started%2Fcomparing_experiments.ipynb\">\n",
    "</a>\n",
    "\n",
    "## Setup\n",
    "\n"
   ]
  },
  {
   "cell_type": "code",
   "execution_count": 1,
   "metadata": {},
   "outputs": [],
   "source": [
    "confusion_matrix_a = [\n",
    "    [258, 7, 12, 42],\n",
    "    [2, 380, 4, 3],\n",
    "    [1, 22, 371, 0],\n",
    "    [37, 9, 6, 199],\n",
    "]\n",
    "\n",
    "confusion_matrix_b = [\n",
    "    [265, 13, 18, 42],\n",
    "    [5, 382, 5, 3],\n",
    "    [7, 20, 359, 2],\n",
    "    [36, 13, 7, 176],\n",
    "]"
   ]
  },
  {
   "cell_type": "code",
   "execution_count": 2,
   "metadata": {},
   "outputs": [],
   "source": [
    "from bayes_conf_mat import Study\n",
    "\n",
    "study = Study(\n",
    "    name=\"comparing_experiments\",\n",
    "    seed=0,\n",
    "    num_samples=10000,\n",
    "    ci_probability=0.95,\n",
    ")\n",
    "\n",
    "study.add_experiment(\n",
    "    \"a/test_a\", confusion_matrix_a, prevalence_prior=1.0, confusion_prior=1.0\n",
    ")\n",
    "\n",
    "study.add_experiment(\n",
    "    \"b/test_b\", confusion_matrix_b, prevalence_prior=1.0, confusion_prior=1.0\n",
    ")\n",
    "\n",
    "study.add_metric(metric=\"accuracy\")"
   ]
  },
  {
   "cell_type": "code",
   "execution_count": 3,
   "metadata": {},
   "outputs": [
    {
     "data": {
      "text/html": [
       "<table>\n",
       "<thead>\n",
       "<tr><th>Group  </th><th>Experiment  </th><th style=\"text-align: right;\">  Observed</th><th style=\"text-align: right;\">  Median</th><th style=\"text-align: right;\">  Mode</th><th style=\"text-align: right;\">       95.0% HDI</th><th style=\"text-align: right;\">    MU</th><th style=\"text-align: right;\">   Skew</th><th style=\"text-align: right;\">  Kurt</th></tr>\n",
       "</thead>\n",
       "<tbody>\n",
       "<tr><td>a      </td><td>test_a      </td><td style=\"text-align: right;\">    0.8928</td><td style=\"text-align: right;\">  0.8856</td><td style=\"text-align: right;\">0.8872</td><td style=\"text-align: right;\">[0.8686, 0.9023]</td><td style=\"text-align: right;\">0.0337</td><td style=\"text-align: right;\">-0.1179</td><td style=\"text-align: right;\">0.0216</td></tr>\n",
       "<tr><td>b      </td><td>test_b      </td><td style=\"text-align: right;\">    0.8736</td><td style=\"text-align: right;\">  0.8668</td><td style=\"text-align: right;\">0.8685</td><td style=\"text-align: right;\">[0.8480, 0.8841]</td><td style=\"text-align: right;\">0.0361</td><td style=\"text-align: right;\">-0.1364</td><td style=\"text-align: right;\">0.0002</td></tr>\n",
       "</tbody>\n",
       "</table>"
      ],
      "text/plain": [
       "'<table>\\n<thead>\\n<tr><th>Group  </th><th>Experiment  </th><th style=\"text-align: right;\">  Observed</th><th style=\"text-align: right;\">  Median</th><th style=\"text-align: right;\">  Mode</th><th style=\"text-align: right;\">       95.0% HDI</th><th style=\"text-align: right;\">    MU</th><th style=\"text-align: right;\">   Skew</th><th style=\"text-align: right;\">  Kurt</th></tr>\\n</thead>\\n<tbody>\\n<tr><td>a      </td><td>test_a      </td><td style=\"text-align: right;\">    0.8928</td><td style=\"text-align: right;\">  0.8856</td><td style=\"text-align: right;\">0.8872</td><td style=\"text-align: right;\">[0.8686, 0.9023]</td><td style=\"text-align: right;\">0.0337</td><td style=\"text-align: right;\">-0.1179</td><td style=\"text-align: right;\">0.0216</td></tr>\\n<tr><td>b      </td><td>test_b      </td><td style=\"text-align: right;\">    0.8736</td><td style=\"text-align: right;\">  0.8668</td><td style=\"text-align: right;\">0.8685</td><td style=\"text-align: right;\">[0.8480, 0.8841]</td><td style=\"text-align: right;\">0.0361</td><td style=\"text-align: right;\">-0.1364</td><td style=\"text-align: right;\">0.0002</td></tr>\\n</tbody>\\n</table>'"
      ]
     },
     "execution_count": 3,
     "metadata": {},
     "output_type": "execute_result"
    }
   ],
   "source": [
    "study.report_metric_summaries(metric=\"acc\", class_label=0)"
   ]
  },
  {
   "cell_type": "code",
   "execution_count": 4,
   "metadata": {},
   "outputs": [
    {
     "name": "stdout",
     "output_type": "stream",
     "text": [
      "Experiment <a/test_a>'s <accuracy> being greater than <b/test_b> could be considered 'dubious'* (Median Δ=0.0189, 95.00% HDI=[-0.0057, 0.0434], p_direction=93.32%).\n",
      "There is a 77.41% probability that this difference is bidirectionally significant (ROPE=[-0.0100, 0.0100], p_ROPE=22.59%).\n",
      "Bidirectional significance could be considered 'undecided'*.\n",
      "Relative to two random models (p_ROPE,random=45.16%)  significance is 1.9991 times more likely.\n",
      "There is a 76.20% probability that this difference is significantly positive (p_pos=76.20%, p_neg=1.21%).\n",
      "\n",
      "* These interpretations are based off of loose guidelines.\n"
     ]
    }
   ],
   "source": [
    "study.report_comparison(\n",
    "    metric=\"acc\",\n",
    "    class_label=0,\n",
    "    experiment_group_a=\"a\",\n",
    "    experiment_a=\"test_a\",\n",
    "    experiment_group_b=\"b\",\n",
    "    experiment_b=\"test_b\",\n",
    "    min_sig_diff=0.01,\n",
    ")"
   ]
  },
  {
   "cell_type": "code",
   "execution_count": 10,
   "metadata": {},
   "outputs": [
    {
     "data": {
      "image/png": "[encoded data removed]",
      "text/plain": [
       "<Figure size 630x252 with 1 Axes>"
      ]
     },
     "metadata": {},
     "output_type": "display_data"
    }
   ],
   "source": [
    "study.plot_comparison(\n",
    "    metric=\"accuracy\",\n",
    "    class_label=0,\n",
    "    experiment_group_a=\"a\",\n",
    "    experiment_a=\"test_a\",\n",
    "    experiment_group_b=\"b\",\n",
    "    experiment_b=\"test_b\",\n",
    ");"
   ]
  },
  {
   "cell_type": "markdown",
   "metadata": {},
   "source": [
    "## The Region of Practical Equivalence (ROPE)\n",
    "\n",
    "The notion of significance "
   ]
  },
  {
   "cell_type": "code",
   "execution_count": 11,
   "metadata": {},
   "outputs": [
    {
     "name": "stdout",
     "output_type": "stream",
     "text": [
      "Experiment <a/test_a>'s <accuracy> being greater than <b/test_b> could be considered 'dubious'* (Median Δ=0.0189, 95.00% HDI=[-0.0057, 0.0434], p_direction=93.32%).\n",
      "There is a 77.41% probability that this difference is bidirectionally significant (ROPE=[-0.0100, 0.0100], p_ROPE=22.59%).\n",
      "Bidirectional significance could be considered 'undecided'*.\n",
      "Relative to two random models (p_ROPE,random=45.16%)  significance is 1.9991 times more likely.\n",
      "There is a 76.20% probability that this difference is significantly positive (p_pos=76.20%, p_neg=1.21%).\n",
      "\n",
      "* These interpretations are based off of loose guidelines.\n"
     ]
    }
   ],
   "source": [
    "study.report_comparison(\n",
    "    metric=\"acc\",\n",
    "    class_label=0,\n",
    "    experiment_group_a=\"a\",\n",
    "    experiment_a=\"test_a\",\n",
    "    experiment_group_b=\"b\",\n",
    "    experiment_b=\"test_b\",\n",
    "    min_sig_diff=0.01,\n",
    ")"
   ]
  },
  {
   "cell_type": "code",
   "execution_count": 12,
   "metadata": {},
   "outputs": [
    {
     "data": {
      "image/png": "[encoded data removed]",
      "text/plain": [
       "<Figure size 630x252 with 1 Axes>"
      ]
     },
     "metadata": {},
     "output_type": "display_data"
    }
   ],
   "source": [
    "study.plot_comparison(\n",
    "    metric=\"accuracy\",\n",
    "    class_label=0,\n",
    "    experiment_group_a=\"a\",\n",
    "    experiment_a=\"test_a\",\n",
    "    experiment_group_b=\"b\",\n",
    "    experiment_b=\"test_b\",\n",
    "    min_sig_diff=0.01,\n",
    ");"
   ]
  },
  {
   "cell_type": "markdown",
   "metadata": {},
   "source": [
    "## Comparing to a Random Baseline"
   ]
  },
  {
   "cell_type": "code",
   "execution_count": 13,
   "metadata": {},
   "outputs": [
    {
     "data": {
      "text/html": [
       "<table>\n",
       "<thead>\n",
       "<tr><th>Group  </th><th>Experiment  </th><th style=\"text-align: right;\">  Median</th><th style=\"text-align: right;\">  Mode</th><th style=\"text-align: right;\">       95.0% HDI</th><th style=\"text-align: right;\">    MU</th><th style=\"text-align: right;\">  Skew</th><th style=\"text-align: right;\">   Kurt</th></tr>\n",
       "</thead>\n",
       "<tbody>\n",
       "<tr><td>a      </td><td>test_a      </td><td style=\"text-align: right;\">  0.2498</td><td style=\"text-align: right;\">0.2476</td><td style=\"text-align: right;\">[0.2284, 0.2730]</td><td style=\"text-align: right;\">0.0447</td><td style=\"text-align: right;\">0.0451</td><td style=\"text-align: right;\">-0.0211</td></tr>\n",
       "<tr><td>b      </td><td>test_b      </td><td style=\"text-align: right;\">  0.2501</td><td style=\"text-align: right;\">0.2524</td><td style=\"text-align: right;\">[0.2276, 0.2731]</td><td style=\"text-align: right;\">0.0455</td><td style=\"text-align: right;\">0.0404</td><td style=\"text-align: right;\"> 0.0316</td></tr>\n",
       "</tbody>\n",
       "</table>"
      ],
      "text/plain": [
       "'<table>\\n<thead>\\n<tr><th>Group  </th><th>Experiment  </th><th style=\"text-align: right;\">  Median</th><th style=\"text-align: right;\">  Mode</th><th style=\"text-align: right;\">       95.0% HDI</th><th style=\"text-align: right;\">    MU</th><th style=\"text-align: right;\">  Skew</th><th style=\"text-align: right;\">   Kurt</th></tr>\\n</thead>\\n<tbody>\\n<tr><td>a      </td><td>test_a      </td><td style=\"text-align: right;\">  0.2498</td><td style=\"text-align: right;\">0.2476</td><td style=\"text-align: right;\">[0.2284, 0.2730]</td><td style=\"text-align: right;\">0.0447</td><td style=\"text-align: right;\">0.0451</td><td style=\"text-align: right;\">-0.0211</td></tr>\\n<tr><td>b      </td><td>test_b      </td><td style=\"text-align: right;\">  0.2501</td><td style=\"text-align: right;\">0.2524</td><td style=\"text-align: right;\">[0.2276, 0.2731]</td><td style=\"text-align: right;\">0.0455</td><td style=\"text-align: right;\">0.0404</td><td style=\"text-align: right;\"> 0.0316</td></tr>\\n</tbody>\\n</table>'"
      ]
     },
     "execution_count": 13,
     "metadata": {},
     "output_type": "execute_result"
    }
   ],
   "source": [
    "study.report_random_metric_summaries(metric=\"accuracy\", class_label=0)"
   ]
  },
  {
   "cell_type": "code",
   "execution_count": 14,
   "metadata": {},
   "outputs": [
    {
     "data": {
      "text/html": [
       "<table>\n",
       "<thead>\n",
       "<tr><th>Group  </th><th>Experiment  </th><th style=\"text-align: right;\">  Median Δ</th><th style=\"text-align: right;\">  $p_{dir}$</th><th style=\"text-align: right;\">             ROPE</th><th style=\"text-align: right;\">  $p_{ROPE}$</th><th style=\"text-align: right;\">  $p_{sig}$</th><th style=\"text-align: right;\">  $p_{sig}^+$</th><th style=\"text-align: right;\">  $p_{sig}^-$</th></tr>\n",
       "</thead>\n",
       "<tbody>\n",
       "<tr><td>a      </td><td>test_a      </td><td style=\"text-align: right;\">    0.6357</td><td style=\"text-align: right;\">     1.0000</td><td style=\"text-align: right;\">[-0.0015, 0.0015]</td><td style=\"text-align: right;\">      0.0000</td><td style=\"text-align: right;\">     1.0000</td><td style=\"text-align: right;\">       1.0000</td><td style=\"text-align: right;\">       0.0000</td></tr>\n",
       "<tr><td>b      </td><td>test_b      </td><td style=\"text-align: right;\">    0.6163</td><td style=\"text-align: right;\">     1.0000</td><td style=\"text-align: right;\">[-0.0015, 0.0015]</td><td style=\"text-align: right;\">      0.0000</td><td style=\"text-align: right;\">     1.0000</td><td style=\"text-align: right;\">       1.0000</td><td style=\"text-align: right;\">       0.0000</td></tr>\n",
       "</tbody>\n",
       "</table>"
      ],
      "text/plain": [
       "'<table>\\n<thead>\\n<tr><th>Group  </th><th>Experiment  </th><th style=\"text-align: right;\">  Median Δ</th><th style=\"text-align: right;\">  $p_{dir}$</th><th style=\"text-align: right;\">             ROPE</th><th style=\"text-align: right;\">  $p_{ROPE}$</th><th style=\"text-align: right;\">  $p_{sig}$</th><th style=\"text-align: right;\">  $p_{sig}^+$</th><th style=\"text-align: right;\">  $p_{sig}^-$</th></tr>\\n</thead>\\n<tbody>\\n<tr><td>a      </td><td>test_a      </td><td style=\"text-align: right;\">    0.6357</td><td style=\"text-align: right;\">     1.0000</td><td style=\"text-align: right;\">[-0.0015, 0.0015]</td><td style=\"text-align: right;\">      0.0000</td><td style=\"text-align: right;\">     1.0000</td><td style=\"text-align: right;\">       1.0000</td><td style=\"text-align: right;\">       0.0000</td></tr>\\n<tr><td>b      </td><td>test_b      </td><td style=\"text-align: right;\">    0.6163</td><td style=\"text-align: right;\">     1.0000</td><td style=\"text-align: right;\">[-0.0015, 0.0015]</td><td style=\"text-align: right;\">      0.0000</td><td style=\"text-align: right;\">     1.0000</td><td style=\"text-align: right;\">       1.0000</td><td style=\"text-align: right;\">       0.0000</td></tr>\\n</tbody>\\n</table>'"
      ]
     },
     "execution_count": 14,
     "metadata": {},
     "output_type": "execute_result"
    }
   ],
   "source": [
    "study.report_comparison_to_random(metric=\"accuracy\", class_label=0)"
   ]
  },
  {
   "cell_type": "markdown",
   "metadata": {},
   "source": [
    "## Next Steps"
   ]
  },
  {
   "cell_type": "markdown",
   "metadata": {},
   "source": []
  }
 ],
 "metadata": {
  "kernelspec": {
   "display_name": "Python 3",
   "language": "python",
   "name": "python3"
  },
  "language_info": {
   "codemirror_mode": {
    "name": "ipython",
    "version": 3
   },
   "file_extension": ".py",
   "mimetype": "text/x-python",
   "name": "python",
   "nbconvert_exporter": "python",
   "pygments_lexer": "ipython3",
   "version": "3.10.14"
  }
 },
 "nbformat": 4,
 "nbformat_minor": 2
}
