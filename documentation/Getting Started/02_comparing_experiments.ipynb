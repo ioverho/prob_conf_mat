{
 "cells": [
  {
   "cell_type": "markdown",
   "metadata": {},
   "source": [
    "# 02. Comparing Experiments\n",
    "\n",
    "**Note**: the appearance of this notebook will depend on the environment and screen size you're using. If the tables are being clipped or the figures look off, consider trying Google Colab or Github via the buttons below. This notebook was created in VSCode, and will likely look best locally.\n",
    "\n",
    "<a target=\"_blank\" href=\"https://colab.research.google.com/github/ioverho/bayes_conf_mat/blob/main/documentation/Getting%20Started/comparing_experiments.ipynb\">\n",
    "  <img alt=\"Static Badge\" src=\"https://img.shields.io/badge/Run_in_Colab-_?style=for-the-badge&logo=googlecolab&labelColor=gray&color=1082c3&link=https%3A%2F%2Fgithub.com%2Fioverho%2Fbayes_conf_mat%2Fblob%2Fmain%2Fdocumentation%2FGetting%2520Started%2F02_comparing_experiments.ipynb\">\n",
    "</a>\n",
    "<a target=\"_blank\" href=\"https://github.com/ioverho/bayes_conf_mat/blob/main/documentation/Getting%20Started/comparing_experiments.ipynb\">\n",
    "  <img alt=\"Static Badge\" src=\"https://img.shields.io/badge/View_in_Github-_?style=for-the-badge&logo=github&labelColor=gray&color=1082c3&link=https%3A%2F%2Fgithub.com%2Fioverho%2Fbayes_conf_mat%2Fblob%2Fmain%2Fdocumentation%2FGetting%2520Started%2F02_comparing_experiments.ipynb\">\n",
    "</a>\n",
    "\n",
    "## Setup\n",
    "\n",
    "Now consider the following common scenario. We train two different models, A and B, on the same dataset. Here model A is our baseline model, and B is the model we've brilliantly applied some intervention to. Now we want to test if our intervention helped classification performance. To do so, we apply the two models independently to the held-out test set and get the following confusion matrices:\n"
   ]
  },
  {
   "cell_type": "code",
   "execution_count": 1,
   "metadata": {},
   "outputs": [],
   "source": [
    "confusion_matrix_a = [\n",
    "    [2482, 75, 106, 59],\n",
    "    [30, 3813, 423, 33],\n",
    "    [22, 239, 3030, 7],\n",
    "    [34, 13, 13, 191],\n",
    "]\n",
    "\n",
    "confusion_matrix_b = [\n",
    "    [2508, 70, 102, 42],\n",
    "    [22, 3820, 421, 36],\n",
    "    [14, 202, 3071, 11],\n",
    "    [37, 9, 6, 199],\n",
    "]\n"
   ]
  },
  {
   "cell_type": "markdown",
   "metadata": {},
   "source": [
    "To assess how much better model B is relative to model A, we use a classification metric on the two confusion matrices, for example Matthew's Correlation Coefficient (MCC). If the MCC is higher for model B, our intervention must have worked and we can publish our paper, right?"
   ]
  },
  {
   "cell_type": "code",
   "execution_count": 2,
   "metadata": {},
   "outputs": [],
   "source": [
    "from bayes_conf_mat import Study\n",
    "\n",
    "study = Study(\n",
    "    seed=0,\n",
    "    num_samples=10000,\n",
    "    ci_probability=0.95,\n",
    ")\n",
    "\n",
    "study.add_experiment(\"a\", confusion_matrix_a, prevalence_prior=1.0, confusion_prior=1.0)\n",
    "\n",
    "study.add_experiment(\"b\", confusion_matrix_b, prevalence_prior=1.0, confusion_prior=1.0)\n",
    "\n",
    "study.add_metric(metric=\"mcc\")\n"
   ]
  },
  {
   "cell_type": "code",
   "execution_count": 3,
   "metadata": {},
   "outputs": [
    {
     "data": {
      "text/html": [
       "<table>\n",
       "<thead>\n",
       "<tr><th>Group  </th><th>Experiment  </th><th style=\"text-align: right;\">  Observed</th><th style=\"text-align: right;\">  Median</th><th style=\"text-align: right;\">  Mode</th><th style=\"text-align: right;\">       95.0% HDI</th><th style=\"text-align: right;\">    MU</th><th style=\"text-align: right;\">   Skew</th><th style=\"text-align: right;\">  Kurt</th></tr>\n",
       "</thead>\n",
       "<tbody>\n",
       "<tr><td>a      </td><td>a           </td><td style=\"text-align: right;\">    0.8523</td><td style=\"text-align: right;\">  0.8510</td><td style=\"text-align: right;\">0.8502</td><td style=\"text-align: right;\">[0.8423, 0.8593]</td><td style=\"text-align: right;\">0.0170</td><td style=\"text-align: right;\">-0.0254</td><td style=\"text-align: right;\">0.0868</td></tr>\n",
       "<tr><td>b      </td><td>b           </td><td style=\"text-align: right;\">    0.8641</td><td style=\"text-align: right;\">  0.8628</td><td style=\"text-align: right;\">0.8634</td><td style=\"text-align: right;\">[0.8546, 0.8706]</td><td style=\"text-align: right;\">0.0160</td><td style=\"text-align: right;\">-0.0713</td><td style=\"text-align: right;\">0.0630</td></tr>\n",
       "</tbody>\n",
       "</table>"
      ],
      "text/plain": [
       "'<table>\\n<thead>\\n<tr><th>Group  </th><th>Experiment  </th><th style=\"text-align: right;\">  Observed</th><th style=\"text-align: right;\">  Median</th><th style=\"text-align: right;\">  Mode</th><th style=\"text-align: right;\">       95.0% HDI</th><th style=\"text-align: right;\">    MU</th><th style=\"text-align: right;\">   Skew</th><th style=\"text-align: right;\">  Kurt</th></tr>\\n</thead>\\n<tbody>\\n<tr><td>a      </td><td>a           </td><td style=\"text-align: right;\">    0.8523</td><td style=\"text-align: right;\">  0.8510</td><td style=\"text-align: right;\">0.8502</td><td style=\"text-align: right;\">[0.8423, 0.8593]</td><td style=\"text-align: right;\">0.0170</td><td style=\"text-align: right;\">-0.0254</td><td style=\"text-align: right;\">0.0868</td></tr>\\n<tr><td>b      </td><td>b           </td><td style=\"text-align: right;\">    0.8641</td><td style=\"text-align: right;\">  0.8628</td><td style=\"text-align: right;\">0.8634</td><td style=\"text-align: right;\">[0.8546, 0.8706]</td><td style=\"text-align: right;\">0.0160</td><td style=\"text-align: right;\">-0.0713</td><td style=\"text-align: right;\">0.0630</td></tr>\\n</tbody>\\n</table>'"
      ]
     },
     "execution_count": 3,
     "metadata": {},
     "output_type": "execute_result"
    }
   ],
   "source": [
    "study.report_metric_summaries(metric=\"mcc\")\n"
   ]
  },
  {
   "cell_type": "markdown",
   "metadata": {},
   "source": [
    "Indeed, when estimating MCC scores, it seems model B outperforms model A 0.0118. Before we get on with writing our pre-print, however, note that the credible intervals overlap at the 95% credibility level. So while model B is better, this is not always the case. This warrants additional testing.\n",
    "\n",
    "## Bayesian Hypothesis Testing\n",
    "\n",
    "In the frequentist framework, situations like these call for hypothesis tests on the means of the different samples, e.g., a t-test. We're not operating in the frequentist framework, however, and the distributions of the various metrics we can compute likely invalidate the stringent assumptions that go along with the hypothesis tests.\n",
    "\n",
    "Instead, we can use a framework introduced by [Kruschke in Bayesian Estimation Supersedes the *t* Test](https://jkkweb.sitehost.iu.edu/articles/Kruschke2013JEPG.pdf). If we assume our samples from the two estimated posterior predictive distributions to be correct, we can estimate the difference between the two experiments by simply taking the differences of their samples. The produced difference distribution looks something like this:"
   ]
  },
  {
   "cell_type": "code",
   "execution_count": 4,
   "metadata": {},
   "outputs": [
    {
     "data": {
      "image/png": "[encoded data removed]",
      "text/plain": [
       "<Figure size 630x252 with 1 Axes>"
      ]
     },
     "metadata": {},
     "output_type": "display_data"
    }
   ],
   "source": [
    "study.report_pairwise_comparison_plot(\n",
    "    metric=\"mcc\",\n",
    "    experiment_a=\"a\",\n",
    "    experiment_b=\"b\",\n",
    "    min_sig_diff=0.0,\n",
    ");\n"
   ]
  },
  {
   "cell_type": "markdown",
   "metadata": {},
   "source": [
    "The area in red corresponds to area where model B is better than model A, and the region in green where model A actually remains better than model B. It's quite clear that model B is better *most of the time*, but is it enough to draw conclusions? Or do we need to test our models on a larger dataset? In other words, is this difference statistically significant, or just a 'lucky' outcome?"
   ]
  },
  {
   "cell_type": "code",
   "execution_count": 5,
   "metadata": {},
   "outputs": [
    {
     "name": "stdout",
     "output_type": "stream",
     "text": [
      "Experiment a's mcc being lesser than b could be considered 'likely'* (Median Δ=-0.0118, 95.00% HDI=[-0.0234, 4.9236e-05], p_direction=97.44%). There is a 100.00% probability that this difference is bidirectionally significant (ROPE=[-0.0000, 0.0000], p_ROPE=0.00%). Bidirectional significance could be considered 'certain'*. There is a 97.44% probability that this difference is significantly negative (p_pos=2.56%, p_neg=97.44%).\n",
      "\n",
      "* These interpretations are based off of loose guidelines, and should change according to the application.\n"
     ]
    }
   ],
   "source": [
    "comparison_result = study.report_pairwise_comparison(\n",
    "    metric=\"mcc\",\n",
    "    experiment_a=\"a\",\n",
    "    experiment_b=\"b\",\n",
    "    min_sig_diff=0.00,\n",
    ")\n",
    "\n",
    "print(comparison_result)\n"
   ]
  },
  {
   "cell_type": "markdown",
   "metadata": {},
   "source": [
    "To test this, the first sentence of the above output is relevant. The median difference is -0.0118, with the true difference falling somewhere in the range \\[-0.0234, 4.9236e-05\\] at the 95% credibility level. The $p_{direction}$ statistic is most relevant, being somewhat comparable to the frequentist (complement of the) $p$-value. At a value of 97.44%, we can conclude that model B being better than model A is probable. More data is always better, but at currently there's only a 2.50% chance that model A actually remains better.\n",
    "\n",
    "## The Region of Practical Equivalence (ROPE)\n",
    "\n",
    "That covers statistical significance, but what about practical significance? The apparent gain that model B books over model A is... modest to say the least. Reviewers are likely not going to be too interested, unless we manage a $0.005$ increase.\n",
    "\n",
    "On a larger enough test set, even very small differences become statistically significant, even when the models are *practically* equivalent. To test for practical significance, we can construct a Region of Practical Equivalence (ROPE). This is some region bounded by two minimally significant values, outside of which we may conclude that the difference between the models is worth noting.\n",
    "\n",
    "For this example, let's assume that we only care about a difference in MCC if it's at least $0.005$. We can now repeat the analysis, while specifying the `min_sig_diff` parameter."
   ]
  },
  {
   "cell_type": "code",
   "execution_count": 6,
   "metadata": {},
   "outputs": [
    {
     "data": {
      "image/png": "[encoded data removed]",
      "text/plain": [
       "<Figure size 630x252 with 1 Axes>"
      ]
     },
     "metadata": {},
     "output_type": "display_data"
    }
   ],
   "source": [
    "study.report_pairwise_comparison_plot(\n",
    "    metric=\"mcc\",\n",
    "    experiment_a=\"a\",\n",
    "    experiment_b=\"b\",\n",
    "    min_sig_diff=0.005,\n",
    ");\n"
   ]
  },
  {
   "cell_type": "markdown",
   "metadata": {},
   "source": [
    "While model B still appears to be better than model A, there is ~13% probability that that difference is practically 0, or in favour of model A."
   ]
  },
  {
   "cell_type": "code",
   "execution_count": 7,
   "metadata": {},
   "outputs": [
    {
     "name": "stdout",
     "output_type": "stream",
     "text": [
      "Experiment a's mcc being lesser than b could be considered 'likely'* (Median Δ=-0.0118, 95.00% HDI=[-0.0234, 4.9236e-05], p_direction=97.44%). There is a 87.56% probability that this difference is bidirectionally significant (ROPE=[-0.0050, 0.0050], p_ROPE=12.44%). Bidirectional significance could be considered 'undecided'*. There is a 87.24% probability that this difference is significantly negative (p_pos=0.32%, p_neg=87.24%). Relative to two random models (p_ROPE,random=47.75%) significance is 3.8384 times more likely.\n",
      "\n",
      "* These interpretations are based off of loose guidelines, and should change according to the application.\n"
     ]
    }
   ],
   "source": [
    "comparison_result = study.report_pairwise_comparison(\n",
    "    metric=\"mcc\",\n",
    "    experiment_a=\"a\",\n",
    "    experiment_b=\"b\",\n",
    "    min_sig_diff=0.005,\n",
    ")\n",
    "\n",
    "print(comparison_result)\n"
   ]
  },
  {
   "cell_type": "markdown",
   "metadata": {},
   "source": [
    "If we don't care about the direction of significance (either model A or model B is better), practical significance is mostly undecided at an 87.56% probability. Most of this difference is in favour of model B (87.24%), though. When comparing to the difference between random models from the same dataset, we see that practical significance is 3.8 times more likely than not. Interpreting this as a Bayes Factor, this is usually seen as weak evidence.\n",
    "\n",
    "All in all, while the difference likely does exist, it's not really large enough to celebrate just yet."
   ]
  },
  {
   "cell_type": "markdown",
   "metadata": {},
   "source": [
    "## Comparing to a Random Baseline\n",
    "\n",
    "One important case to check is whether the trained classifier performs better than random. Initially, we would expect this to not be the case, but for any decent classifier, we would expect much better performance.\n",
    "\n",
    "The random baseline largely depends on a) the classification metric used, and b) the label proportion. Luckily, the Study class can simulate performance of a random classifier on this dataset for any implemented metric. For example, if using the MCC metric, we would expect random performance to be 0 exactly."
   ]
  },
  {
   "cell_type": "code",
   "execution_count": 8,
   "metadata": {},
   "outputs": [
    {
     "data": {
      "text/html": [
       "<table>\n",
       "<thead>\n",
       "<tr><th>Group  </th><th>Experiment  </th><th style=\"text-align: right;\">  Median</th><th style=\"text-align: right;\">   Mode</th><th style=\"text-align: right;\">        95.0% HDI</th><th style=\"text-align: right;\">    MU</th><th style=\"text-align: right;\">  Skew</th><th style=\"text-align: right;\">   Kurt</th></tr>\n",
       "</thead>\n",
       "<tbody>\n",
       "<tr><td>a      </td><td>a           </td><td style=\"text-align: right;\"> -0.0001</td><td style=\"text-align: right;\">-0.0011</td><td style=\"text-align: right;\">[-0.0107, 0.0114]</td><td style=\"text-align: right;\">0.0220</td><td style=\"text-align: right;\">0.0302</td><td style=\"text-align: right;\">-0.0592</td></tr>\n",
       "<tr><td>b      </td><td>b           </td><td style=\"text-align: right;\"> -0.0001</td><td style=\"text-align: right;\"> 0.0003</td><td style=\"text-align: right;\">[-0.0108, 0.0111]</td><td style=\"text-align: right;\">0.0219</td><td style=\"text-align: right;\">0.0466</td><td style=\"text-align: right;\"> 0.0479</td></tr>\n",
       "</tbody>\n",
       "</table>"
      ],
      "text/plain": [
       "'<table>\\n<thead>\\n<tr><th>Group  </th><th>Experiment  </th><th style=\"text-align: right;\">  Median</th><th style=\"text-align: right;\">   Mode</th><th style=\"text-align: right;\">        95.0% HDI</th><th style=\"text-align: right;\">    MU</th><th style=\"text-align: right;\">  Skew</th><th style=\"text-align: right;\">   Kurt</th></tr>\\n</thead>\\n<tbody>\\n<tr><td>a      </td><td>a           </td><td style=\"text-align: right;\"> -0.0001</td><td style=\"text-align: right;\">-0.0011</td><td style=\"text-align: right;\">[-0.0107, 0.0114]</td><td style=\"text-align: right;\">0.0220</td><td style=\"text-align: right;\">0.0302</td><td style=\"text-align: right;\">-0.0592</td></tr>\\n<tr><td>b      </td><td>b           </td><td style=\"text-align: right;\"> -0.0001</td><td style=\"text-align: right;\"> 0.0003</td><td style=\"text-align: right;\">[-0.0108, 0.0111]</td><td style=\"text-align: right;\">0.0219</td><td style=\"text-align: right;\">0.0466</td><td style=\"text-align: right;\"> 0.0479</td></tr>\\n</tbody>\\n</table>'"
      ]
     },
     "execution_count": 8,
     "metadata": {},
     "output_type": "execute_result"
    }
   ],
   "source": [
    "study.report_random_metric_summaries(metric=\"mcc\")\n"
   ]
  },
  {
   "cell_type": "markdown",
   "metadata": {},
   "source": [
    "And in fact, that is the value we retrieve. We can also see that most values fall within 0.01 MCC.\n",
    "\n",
    "Given the previous results, it seems trivial to compare the trained classifiers to the random ones, but this is also implemented."
   ]
  },
  {
   "cell_type": "code",
   "execution_count": 9,
   "metadata": {},
   "outputs": [
    {
     "data": {
      "text/html": [
       "<table>\n",
       "<thead>\n",
       "<tr><th>Group  </th><th>Experiment  </th><th style=\"text-align: right;\">  Median Δ</th><th style=\"text-align: right;\">  p_direction</th><th style=\"text-align: right;\">             ROPE</th><th style=\"text-align: right;\">  p_ROPE</th><th style=\"text-align: right;\">  p_sig</th></tr>\n",
       "</thead>\n",
       "<tbody>\n",
       "<tr><td>a      </td><td>a           </td><td style=\"text-align: right;\">    0.8511</td><td style=\"text-align: right;\">       1.0000</td><td style=\"text-align: right;\">[-0.0500, 0.0500]</td><td style=\"text-align: right;\">  0.0000</td><td style=\"text-align: right;\"> 1.0000</td></tr>\n",
       "<tr><td>b      </td><td>b           </td><td style=\"text-align: right;\">    0.8629</td><td style=\"text-align: right;\">       1.0000</td><td style=\"text-align: right;\">[-0.0500, 0.0500]</td><td style=\"text-align: right;\">  0.0000</td><td style=\"text-align: right;\"> 1.0000</td></tr>\n",
       "</tbody>\n",
       "</table>"
      ],
      "text/plain": [
       "'<table>\\n<thead>\\n<tr><th>Group  </th><th>Experiment  </th><th style=\"text-align: right;\">  Median Δ</th><th style=\"text-align: right;\">  p_direction</th><th style=\"text-align: right;\">             ROPE</th><th style=\"text-align: right;\">  p_ROPE</th><th style=\"text-align: right;\">  p_sig</th></tr>\\n</thead>\\n<tbody>\\n<tr><td>a      </td><td>a           </td><td style=\"text-align: right;\">    0.8511</td><td style=\"text-align: right;\">       1.0000</td><td style=\"text-align: right;\">[-0.0500, 0.0500]</td><td style=\"text-align: right;\">  0.0000</td><td style=\"text-align: right;\"> 1.0000</td></tr>\\n<tr><td>b      </td><td>b           </td><td style=\"text-align: right;\">    0.8629</td><td style=\"text-align: right;\">       1.0000</td><td style=\"text-align: right;\">[-0.0500, 0.0500]</td><td style=\"text-align: right;\">  0.0000</td><td style=\"text-align: right;\"> 1.0000</td></tr>\\n</tbody>\\n</table>'"
      ]
     },
     "execution_count": 9,
     "metadata": {},
     "output_type": "execute_result"
    }
   ],
   "source": [
    "study.report_pairwise_comparison_to_random(metric=\"mcc\", min_sig_diff=0.05)\n"
   ]
  },
  {
   "cell_type": "markdown",
   "metadata": {},
   "source": [
    "Here we can see that for both 'trained' classifiers, the achieved classification performance is **much** better than random."
   ]
  },
  {
   "cell_type": "markdown",
   "metadata": {},
   "source": [
    "## Comparing Many Experiments"
   ]
  },
  {
   "cell_type": "code",
   "execution_count": 10,
   "metadata": {},
   "outputs": [
    {
     "data": {
      "text/html": [
       "<table>\n",
       "<thead>\n",
       "<tr><th>Group  </th><th>Experiment  </th><th style=\"text-align: right;\">  Rank 1</th><th style=\"text-align: right;\">  Rank 2</th></tr>\n",
       "</thead>\n",
       "<tbody>\n",
       "<tr><td>a      </td><td>a           </td><td style=\"text-align: right;\">  0.0256</td><td style=\"text-align: right;\">  0.9744</td></tr>\n",
       "<tr><td>b      </td><td>b           </td><td style=\"text-align: right;\">  0.9744</td><td style=\"text-align: right;\">  0.0256</td></tr>\n",
       "</tbody>\n",
       "</table>"
      ],
      "text/plain": [
       "'<table>\\n<thead>\\n<tr><th>Group  </th><th>Experiment  </th><th style=\"text-align: right;\">  Rank 1</th><th style=\"text-align: right;\">  Rank 2</th></tr>\\n</thead>\\n<tbody>\\n<tr><td>a      </td><td>a           </td><td style=\"text-align: right;\">  0.0256</td><td style=\"text-align: right;\">  0.9744</td></tr>\\n<tr><td>b      </td><td>b           </td><td style=\"text-align: right;\">  0.9744</td><td style=\"text-align: right;\">  0.0256</td></tr>\\n</tbody>\\n</table>'"
      ]
     },
     "execution_count": 10,
     "metadata": {},
     "output_type": "execute_result"
    }
   ],
   "source": [
    "study.report_listwise_comparison(metric=\"mcc\")\n"
   ]
  },
  {
   "cell_type": "markdown",
   "metadata": {},
   "source": [
    "## Next Steps"
   ]
  },
  {
   "cell_type": "markdown",
   "metadata": {},
   "source": []
  }
 ],
 "metadata": {
  "kernelspec": {
   "display_name": ".venv",
   "language": "python",
   "name": "python3"
  },
  "language_info": {
   "codemirror_mode": {
    "name": "ipython",
    "version": 3
   },
   "file_extension": ".py",
   "mimetype": "text/x-python",
   "name": "python",
   "nbconvert_exporter": "python",
   "pygments_lexer": "ipython3",
   "version": "3.11.11"
  }
 },
 "nbformat": 4,
 "nbformat_minor": 2
}
