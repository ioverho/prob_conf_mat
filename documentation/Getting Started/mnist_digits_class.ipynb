{
 "cells": [
  {
   "cell_type": "markdown",
   "metadata": {},
   "source": [
    "# MNIST Digits Classification"
   ]
  },
  {
   "cell_type": "code",
   "execution_count": 1,
   "metadata": {},
   "outputs": [],
   "source": [
    "from bayes_conf_mat import Study, load_config"
   ]
  },
  {
   "cell_type": "code",
   "execution_count": 2,
   "metadata": {},
   "outputs": [
    {
     "name": "stdout",
     "output_type": "stream",
     "text": [
      "config.yaml  mlp_1.csv  mlp_3.csv  svm_0.csv  svm_2.csv  svm_4.csv\n",
      "mlp_0.csv    mlp_2.csv  mlp_4.csv  svm_1.csv  svm_3.csv\n"
     ]
    }
   ],
   "source": [
    "%ls ./mnist_digits"
   ]
  },
  {
   "cell_type": "code",
   "execution_count": 3,
   "metadata": {},
   "outputs": [],
   "source": [
    "study = Study.from_config(config=\"./mnist_digits/config.yaml\")"
   ]
  },
  {
   "cell_type": "markdown",
   "metadata": {},
   "source": [
    "## Sampling synthetic confusion matrices"
   ]
  },
  {
   "cell_type": "code",
   "execution_count": 8,
   "metadata": {},
   "outputs": [
    {
     "name": "stdout",
     "output_type": "stream",
     "text": [
      "f1 SplitExperimentResult(experiment=Experiment(fold_0), metric=Metric(f1), values=array([0.90102465, 0.91138662, 0.91987725, ..., 0.9012367 , 0.90545676,\n",
      "       0.90842337]), class_index=0)\n"
     ]
    }
   ],
   "source": [
    "for experiment, metrics_dict in study.sample_metrics(sampling_method=\"posterior\"):\n",
    "    for metric, result in metrics_dict.items():\n",
    "        print(metric, result[0][0])\n",
    "\n",
    "        break\n",
    "\n",
    "    break"
   ]
  },
  {
   "cell_type": "markdown",
   "metadata": {},
   "source": [
    "## Pairwise Comparison"
   ]
  },
  {
   "cell_type": "code",
   "execution_count": 8,
   "metadata": {},
   "outputs": [
    {
     "name": "stdout",
     "output_type": "stream",
     "text": [
      "Experiment <svm>'s <mcc> being lesser than <mlp> could be considered 'dubious' (Median Δ=-0.0044, 95.00% HDI=[-0.0195, 0.0104], p_direction=71.96%).\n",
      "There is a 26.35% probability that this difference is bidirectionally significant (ROPE=[-0.0100, 0.0100], p_ROPE=73.65%).\n",
      "Bidirectional significance could be considered 'undecided'.\n",
      "There is a 23.43% probability that this difference is significantly negative (p_pos=2.92%, p_neg=23.43%).\n"
     ]
    }
   ],
   "source": [
    "print(\n",
    "    study.report_pairwise_comparison(\n",
    "        metric_name=\"mcc\",\n",
    "        experiment_group_name_a=\"svm\",\n",
    "        experiment_group_name_b=\"mlp\",\n",
    "        min_sig_diff=0.01,\n",
    "        precision=4,\n",
    "    )\n",
    ")"
   ]
  },
  {
   "cell_type": "code",
   "execution_count": 9,
   "metadata": {},
   "outputs": [
    {
     "data": {
      "image/png": "[encoded data removed]",
      "text/plain": [
       "<Figure size 1000x200 with 1 Axes>"
      ]
     },
     "metadata": {},
     "output_type": "display_data"
    }
   ],
   "source": [
    "study.report_pairwise_comparison_plot(\n",
    "    metric_name=\"mcc\",\n",
    "    experiment_group_name_a=\"svm\",\n",
    "    experiment_group_name_b=\"mlp\",\n",
    "    min_sig_diff=0.01,\n",
    "    precision=4,\n",
    "    figsize=(10, 2),\n",
    ");"
   ]
  }
 ],
 "metadata": {
  "kernelspec": {
   "display_name": "bayes-conf-mat",
   "language": "python",
   "name": "python3"
  },
  "language_info": {
   "codemirror_mode": {
    "name": "ipython",
    "version": 3
   },
   "file_extension": ".py",
   "mimetype": "text/x-python",
   "name": "python",
   "nbconvert_exporter": "python",
   "pygments_lexer": "ipython3",
   "version": "3.10.14"
  }
 },
 "nbformat": 4,
 "nbformat_minor": 2
}
